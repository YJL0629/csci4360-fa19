{
  "nbformat": 4,
  "nbformat_minor": 0,
  "metadata": {
    "colab": {
      "name": "PySpark CSV.ipynb",
      "version": "0.3.2",
      "provenance": []
    },
    "kernelspec": {
      "name": "python3",
      "display_name": "Python 3"
    }
  },
  "cells": [
    {
      "cell_type": "code",
      "metadata": {
        "id": "w6iGJvqwk5sX",
        "colab_type": "code",
        "colab": {}
      },
      "source": [
        "#!apt-get update -q\n",
        "!apt-get install openjdk-8-jdk-headless -qq > /dev/null\n",
        "!wget -q http://us.mirrors.quenda.co/apache/spark/spark-2.4.4/spark-2.4.4-bin-hadoop2.7.tgz\n",
        "!tar xf spark-2.4.4-bin-hadoop2.7.tgz\n",
        "!pip install -q findspark"
      ],
      "execution_count": 0,
      "outputs": []
    },
    {
      "cell_type": "code",
      "metadata": {
        "id": "oX6DsNfIQtCo",
        "colab_type": "code",
        "colab": {}
      },
      "source": [
        "import os\n",
        "os.environ[\"JAVA_HOME\"] = \"/usr/lib/jvm/java-8-openjdk-amd64\"\n",
        "os.environ[\"SPARK_HOME\"] = \"/content/spark-2.4.4-bin-hadoop2.7\""
      ],
      "execution_count": 0,
      "outputs": []
    },
    {
      "cell_type": "code",
      "metadata": {
        "id": "LY8T-goXRErG",
        "colab_type": "code",
        "colab": {}
      },
      "source": [
        "import findspark\n",
        "findspark.init()"
      ],
      "execution_count": 0,
      "outputs": []
    },
    {
      "cell_type": "code",
      "metadata": {
        "id": "MjZcGrJHR75K",
        "colab_type": "code",
        "colab": {}
      },
      "source": [
        "import pyspark\n",
        "#sc = pyspark.SparkContext('local[*]')\n",
        "from pyspark.sql import SparkSession\n",
        "spark = SparkSession.builder.master(\"local[*]\").getOrCreate()"
      ],
      "execution_count": 0,
      "outputs": []
    },
    {
      "cell_type": "code",
      "metadata": {
        "id": "RntBlqHRRIdP",
        "colab_type": "code",
        "colab": {}
      },
      "source": [
        "#!wget https://github.com/asifahmed90/pyspark-ML-in-Colab/blob/master/BostonHousing.csv"
      ],
      "execution_count": 0,
      "outputs": []
    },
    {
      "cell_type": "code",
      "metadata": {
        "id": "NWHL20FgUHIJ",
        "colab_type": "code",
        "colab": {}
      },
      "source": [
        "from google.colab import files\n",
        "files.upload()"
      ],
      "execution_count": 0,
      "outputs": []
    },
    {
      "cell_type": "code",
      "metadata": {
        "id": "PYiB7XICBlsj",
        "colab_type": "code",
        "colab": {}
      },
      "source": [
        "from pyspark.ml.feature import VectorAssembler\n",
        "from pyspark.ml.regression import LinearRegression\n",
        "dataset = spark.read.csv('BostonHousing.csv',inferSchema=True, header =True)"
      ],
      "execution_count": 0,
      "outputs": []
    },
    {
      "cell_type": "code",
      "metadata": {
        "id": "GNvA40bKBl3I",
        "colab_type": "code",
        "outputId": "c1b26047-09c7-40e6-c4a6-0b5b9a084863",
        "colab": {
          "base_uri": "https://localhost:8080/",
          "height": 289
        }
      },
      "source": [
        "dataset.printSchema()"
      ],
      "execution_count": 0,
      "outputs": [
        {
          "output_type": "stream",
          "text": [
            "root\n",
            " |-- crim: double (nullable = true)\n",
            " |-- zn: double (nullable = true)\n",
            " |-- indus: double (nullable = true)\n",
            " |-- chas: integer (nullable = true)\n",
            " |-- nox: double (nullable = true)\n",
            " |-- rm: double (nullable = true)\n",
            " |-- age: double (nullable = true)\n",
            " |-- dis: double (nullable = true)\n",
            " |-- rad: integer (nullable = true)\n",
            " |-- tax: integer (nullable = true)\n",
            " |-- ptratio: double (nullable = true)\n",
            " |-- b: double (nullable = true)\n",
            " |-- lstat: double (nullable = true)\n",
            " |-- medv: double (nullable = true)\n",
            "\n"
          ],
          "name": "stdout"
        }
      ]
    },
    {
      "cell_type": "markdown",
      "metadata": {
        "id": "XqseE0zUGY5U",
        "colab_type": "text"
      },
      "source": [
        "# **Converting all the features from different columns into a single column and we can call the new vector column as ‘Attributes’ in the outputCol.**"
      ]
    },
    {
      "cell_type": "code",
      "metadata": {
        "id": "ADcqskcuBl_9",
        "colab_type": "code",
        "outputId": "fd3f87ee-a2f0-47f5-bbb5-b14ed1c6d425",
        "colab": {
          "base_uri": "https://localhost:8080/",
          "height": 459
        }
      },
      "source": [
        "#Input all the features in one vector column\n",
        "assembler = VectorAssembler(inputCols=['crim', 'zn', 'indus', 'chas', 'nox', 'rm', 'age', 'dis', 'rad', 'tax', 'ptratio', 'b', 'lstat'], outputCol = 'Attributes')\n",
        "output = assembler.transform(dataset)\n",
        "#Input vs Output\n",
        "finalized_data = output.select(\"Attributes\",\"medv\")\n",
        "finalized_data.show()"
      ],
      "execution_count": 0,
      "outputs": [
        {
          "output_type": "stream",
          "text": [
            "+--------------------+----+\n",
            "|          Attributes|medv|\n",
            "+--------------------+----+\n",
            "|[0.00632,18.0,2.3...|24.0|\n",
            "|[0.02731,0.0,7.07...|21.6|\n",
            "|[0.02729,0.0,7.07...|34.7|\n",
            "|[0.03237,0.0,2.18...|33.4|\n",
            "|[0.06905,0.0,2.18...|36.2|\n",
            "|[0.02985,0.0,2.18...|28.7|\n",
            "|[0.08829,12.5,7.8...|22.9|\n",
            "|[0.14455,12.5,7.8...|27.1|\n",
            "|[0.21124,12.5,7.8...|16.5|\n",
            "|[0.17004,12.5,7.8...|18.9|\n",
            "|[0.22489,12.5,7.8...|15.0|\n",
            "|[0.11747,12.5,7.8...|18.9|\n",
            "|[0.09378,12.5,7.8...|21.7|\n",
            "|[0.62976,0.0,8.14...|20.4|\n",
            "|[0.63796,0.0,8.14...|18.2|\n",
            "|[0.62739,0.0,8.14...|19.9|\n",
            "|[1.05393,0.0,8.14...|23.1|\n",
            "|[0.7842,0.0,8.14,...|17.5|\n",
            "|[0.80271,0.0,8.14...|20.2|\n",
            "|[0.7258,0.0,8.14,...|18.2|\n",
            "+--------------------+----+\n",
            "only showing top 20 rows\n",
            "\n"
          ],
          "name": "stdout"
        }
      ]
    },
    {
      "cell_type": "markdown",
      "metadata": {
        "id": "MHFgP5MKGlYS",
        "colab_type": "text"
      },
      "source": [
        "# **‘Attributes’ are the input features from all the columns and ‘medv’ is the target column.**"
      ]
    },
    {
      "cell_type": "markdown",
      "metadata": {
        "id": "pgbZg0ASGtv3",
        "colab_type": "text"
      },
      "source": [
        "# **split the training and testing data according to our dataset (0.8 and 0.2 in this case).**"
      ]
    },
    {
      "cell_type": "code",
      "metadata": {
        "id": "s-0VoXVHBmIX",
        "colab_type": "code",
        "outputId": "ff67e874-9737-4c84-d52d-9114de780d22",
        "colab": {
          "base_uri": "https://localhost:8080/",
          "height": 459
        }
      },
      "source": [
        "#Split training and testing data\n",
        "train_data,test_data = finalized_data.randomSplit([0.8,0.2])\n",
        "regressor = LinearRegression(featuresCol = 'Attributes', labelCol = 'medv')\n",
        "#Learn to fit the model from training set\n",
        "regressor = regressor.fit(train_data)\n",
        "#To predict the prices on testing set\n",
        "pred = regressor.evaluate(test_data)\n",
        "#Predict the model\n",
        "pred.predictions.show()"
      ],
      "execution_count": 0,
      "outputs": [
        {
          "output_type": "stream",
          "text": [
            "+--------------------+----+------------------+\n",
            "|          Attributes|medv|        prediction|\n",
            "+--------------------+----+------------------+\n",
            "|[0.01301,35.0,1.5...|32.7|30.109213599459387|\n",
            "|[0.01709,90.0,2.0...|30.1|24.947354543080586|\n",
            "|[0.02009,95.0,2.6...|50.0| 42.89507153637031|\n",
            "|[0.02763,75.0,2.9...|30.8| 31.39574797988461|\n",
            "|[0.03306,0.0,5.19...|20.6|22.272808845165976|\n",
            "|[0.03768,80.0,1.5...|34.6| 34.38793486612563|\n",
            "|[0.04294,28.0,15....|20.6|26.945114542397743|\n",
            "|[0.04417,70.0,2.2...|24.8|30.457052300924275|\n",
            "|[0.0456,0.0,13.89...|23.3| 26.88999111040776|\n",
            "|[0.04932,33.0,2.1...|28.2|  32.4354142632953|\n",
            "|[0.04981,21.0,5.6...|23.4|24.109716942832236|\n",
            "|[0.05083,0.0,5.19...|22.2|  22.2055569327958|\n",
            "|[0.0536,21.0,5.64...|25.0|27.712614871824613|\n",
            "|[0.05602,0.0,2.46...|50.0| 35.76739058710187|\n",
            "|[0.0566,0.0,3.41,...|23.6| 30.50966232446786|\n",
            "|[0.05735,0.0,4.49...|26.6|27.777536454184123|\n",
            "|[0.06047,0.0,2.46...|29.6|24.613131394848747|\n",
            "|[0.07022,0.0,4.05...|23.2| 25.66424119472355|\n",
            "|[0.07244,60.0,1.6...|18.6|16.829585406167638|\n",
            "|[0.07896,0.0,12.8...|24.1| 25.95296714493142|\n",
            "+--------------------+----+------------------+\n",
            "only showing top 20 rows\n",
            "\n"
          ],
          "name": "stdout"
        }
      ]
    },
    {
      "cell_type": "markdown",
      "metadata": {
        "id": "YumPamS7G297",
        "colab_type": "text"
      },
      "source": [
        "# **print the coefficient and intercept of the regression model by using the following command:**"
      ]
    },
    {
      "cell_type": "code",
      "metadata": {
        "id": "WXRvMR4zBmQQ",
        "colab_type": "code",
        "outputId": "c1aeb518-26b4-4bc8-cd92-7612c987fdb2",
        "colab": {
          "base_uri": "https://localhost:8080/",
          "height": 71
        }
      },
      "source": [
        "#coefficient of the regression model\n",
        "coeff = regressor.coefficients\n",
        "#X and Y intercept\n",
        "intr = regressor.intercept\n",
        "print (\"The coefficient of the model is : %a\" %coeff)\n",
        "print (\"The Intercept of the model is : %f\" %intr)"
      ],
      "execution_count": 0,
      "outputs": [
        {
          "output_type": "stream",
          "text": [
            "The coefficient of the model is : DenseVector([-0.088, 0.0446, 0.0305, 2.9166, -17.5738, 3.6781, -0.0052, -1.5153, 0.2857, -0.0118, -0.9381, 0.0082, -0.5444])\n",
            "The Intercept of the model is : 37.908562\n"
          ],
          "name": "stdout"
        }
      ]
    },
    {
      "cell_type": "markdown",
      "metadata": {
        "id": "4LY9U9MCG-CE",
        "colab_type": "text"
      },
      "source": [
        "# **Analyzing our model statistically by importing RegressionEvaluator module from Pyspark.**"
      ]
    },
    {
      "cell_type": "code",
      "metadata": {
        "id": "MF1dOp0vBmX8",
        "colab_type": "code",
        "outputId": "80bbe656-f02f-4dcf-a880-1a20eacaf172",
        "colab": {
          "base_uri": "https://localhost:8080/",
          "height": 85
        }
      },
      "source": [
        "from pyspark.ml.evaluation import RegressionEvaluator\n",
        "eval = RegressionEvaluator(labelCol=\"medv\", predictionCol=\"prediction\", metricName=\"rmse\")\n",
        "# Root Mean Square Error\n",
        "rmse = eval.evaluate(pred.predictions)\n",
        "print(\"RMSE: %.3f\" % rmse)\n",
        "# Mean Square Error\n",
        "mse = eval.evaluate(pred.predictions, {eval.metricName: \"mse\"})\n",
        "print(\"MSE: %.3f\" % mse)\n",
        "# Mean Absolute Error\n",
        "mae = eval.evaluate(pred.predictions, {eval.metricName: \"mae\"})\n",
        "print(\"MAE: %.3f\" % mae)\n",
        "# r2 - coefficient of determination\n",
        "r2 = eval.evaluate(pred.predictions, {eval.metricName: \"r2\"})\n",
        "print(\"r2: %.3f\" %r2)"
      ],
      "execution_count": 0,
      "outputs": [
        {
          "output_type": "stream",
          "text": [
            "RMSE: 4.710\n",
            "MSE: 22.187\n",
            "MAE: 3.096\n",
            "r2: 0.749\n"
          ],
          "name": "stdout"
        }
      ]
    }
  ]
}